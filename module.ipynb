{
 "cells": [
  {
   "cell_type": "code",
   "execution_count": 2,
   "metadata": {},
   "outputs": [
    {
     "data": {
      "text/html": [
       "<div>\n",
       "<style scoped>\n",
       "    .dataframe tbody tr th:only-of-type {\n",
       "        vertical-align: middle;\n",
       "    }\n",
       "\n",
       "    .dataframe tbody tr th {\n",
       "        vertical-align: top;\n",
       "    }\n",
       "\n",
       "    .dataframe thead th {\n",
       "        text-align: right;\n",
       "    }\n",
       "</style>\n",
       "<table border=\"1\" class=\"dataframe\">\n",
       "  <thead>\n",
       "    <tr style=\"text-align: right;\">\n",
       "      <th></th>\n",
       "      <th>gameId</th>\n",
       "      <th>blueWins</th>\n",
       "      <th>blueWardsPlaced</th>\n",
       "      <th>blueWardsDestroyed</th>\n",
       "      <th>blueFirstBlood</th>\n",
       "      <th>blueKills</th>\n",
       "      <th>blueDeaths</th>\n",
       "      <th>blueAssists</th>\n",
       "      <th>blueEliteMonsters</th>\n",
       "      <th>blueDragons</th>\n",
       "      <th>...</th>\n",
       "      <th>redTowersDestroyed</th>\n",
       "      <th>redTotalGold</th>\n",
       "      <th>redAvgLevel</th>\n",
       "      <th>redTotalExperience</th>\n",
       "      <th>redTotalMinionsKilled</th>\n",
       "      <th>redTotalJungleMinionsKilled</th>\n",
       "      <th>redGoldDiff</th>\n",
       "      <th>redExperienceDiff</th>\n",
       "      <th>redCSPerMin</th>\n",
       "      <th>redGoldPerMin</th>\n",
       "    </tr>\n",
       "  </thead>\n",
       "  <tbody>\n",
       "    <tr>\n",
       "      <th>0</th>\n",
       "      <td>4519157822</td>\n",
       "      <td>0</td>\n",
       "      <td>28</td>\n",
       "      <td>2</td>\n",
       "      <td>1</td>\n",
       "      <td>9</td>\n",
       "      <td>6</td>\n",
       "      <td>11</td>\n",
       "      <td>0</td>\n",
       "      <td>0</td>\n",
       "      <td>...</td>\n",
       "      <td>0</td>\n",
       "      <td>16567</td>\n",
       "      <td>6.8</td>\n",
       "      <td>17047</td>\n",
       "      <td>197</td>\n",
       "      <td>55</td>\n",
       "      <td>-643</td>\n",
       "      <td>8</td>\n",
       "      <td>19.7</td>\n",
       "      <td>1656.7</td>\n",
       "    </tr>\n",
       "    <tr>\n",
       "      <th>1</th>\n",
       "      <td>4523371949</td>\n",
       "      <td>0</td>\n",
       "      <td>12</td>\n",
       "      <td>1</td>\n",
       "      <td>0</td>\n",
       "      <td>5</td>\n",
       "      <td>5</td>\n",
       "      <td>5</td>\n",
       "      <td>0</td>\n",
       "      <td>0</td>\n",
       "      <td>...</td>\n",
       "      <td>1</td>\n",
       "      <td>17620</td>\n",
       "      <td>6.8</td>\n",
       "      <td>17438</td>\n",
       "      <td>240</td>\n",
       "      <td>52</td>\n",
       "      <td>2908</td>\n",
       "      <td>1173</td>\n",
       "      <td>24.0</td>\n",
       "      <td>1762.0</td>\n",
       "    </tr>\n",
       "    <tr>\n",
       "      <th>2</th>\n",
       "      <td>4521474530</td>\n",
       "      <td>0</td>\n",
       "      <td>15</td>\n",
       "      <td>0</td>\n",
       "      <td>0</td>\n",
       "      <td>7</td>\n",
       "      <td>11</td>\n",
       "      <td>4</td>\n",
       "      <td>1</td>\n",
       "      <td>1</td>\n",
       "      <td>...</td>\n",
       "      <td>0</td>\n",
       "      <td>17285</td>\n",
       "      <td>6.8</td>\n",
       "      <td>17254</td>\n",
       "      <td>203</td>\n",
       "      <td>28</td>\n",
       "      <td>1172</td>\n",
       "      <td>1033</td>\n",
       "      <td>20.3</td>\n",
       "      <td>1728.5</td>\n",
       "    </tr>\n",
       "    <tr>\n",
       "      <th>3</th>\n",
       "      <td>4524384067</td>\n",
       "      <td>0</td>\n",
       "      <td>43</td>\n",
       "      <td>1</td>\n",
       "      <td>0</td>\n",
       "      <td>4</td>\n",
       "      <td>5</td>\n",
       "      <td>5</td>\n",
       "      <td>1</td>\n",
       "      <td>0</td>\n",
       "      <td>...</td>\n",
       "      <td>0</td>\n",
       "      <td>16478</td>\n",
       "      <td>7.0</td>\n",
       "      <td>17961</td>\n",
       "      <td>235</td>\n",
       "      <td>47</td>\n",
       "      <td>1321</td>\n",
       "      <td>7</td>\n",
       "      <td>23.5</td>\n",
       "      <td>1647.8</td>\n",
       "    </tr>\n",
       "    <tr>\n",
       "      <th>4</th>\n",
       "      <td>4436033771</td>\n",
       "      <td>0</td>\n",
       "      <td>75</td>\n",
       "      <td>4</td>\n",
       "      <td>0</td>\n",
       "      <td>6</td>\n",
       "      <td>6</td>\n",
       "      <td>6</td>\n",
       "      <td>0</td>\n",
       "      <td>0</td>\n",
       "      <td>...</td>\n",
       "      <td>0</td>\n",
       "      <td>17404</td>\n",
       "      <td>7.0</td>\n",
       "      <td>18313</td>\n",
       "      <td>225</td>\n",
       "      <td>67</td>\n",
       "      <td>1004</td>\n",
       "      <td>-230</td>\n",
       "      <td>22.5</td>\n",
       "      <td>1740.4</td>\n",
       "    </tr>\n",
       "  </tbody>\n",
       "</table>\n",
       "<p>5 rows × 40 columns</p>\n",
       "</div>"
      ],
      "text/plain": [
       "       gameId  blueWins  blueWardsPlaced  blueWardsDestroyed  blueFirstBlood  \\\n",
       "0  4519157822         0               28                   2               1   \n",
       "1  4523371949         0               12                   1               0   \n",
       "2  4521474530         0               15                   0               0   \n",
       "3  4524384067         0               43                   1               0   \n",
       "4  4436033771         0               75                   4               0   \n",
       "\n",
       "   blueKills  blueDeaths  blueAssists  blueEliteMonsters  blueDragons  ...  \\\n",
       "0          9           6           11                  0            0  ...   \n",
       "1          5           5            5                  0            0  ...   \n",
       "2          7          11            4                  1            1  ...   \n",
       "3          4           5            5                  1            0  ...   \n",
       "4          6           6            6                  0            0  ...   \n",
       "\n",
       "   redTowersDestroyed  redTotalGold  redAvgLevel  redTotalExperience  \\\n",
       "0                   0         16567          6.8               17047   \n",
       "1                   1         17620          6.8               17438   \n",
       "2                   0         17285          6.8               17254   \n",
       "3                   0         16478          7.0               17961   \n",
       "4                   0         17404          7.0               18313   \n",
       "\n",
       "   redTotalMinionsKilled  redTotalJungleMinionsKilled  redGoldDiff  \\\n",
       "0                    197                           55         -643   \n",
       "1                    240                           52         2908   \n",
       "2                    203                           28         1172   \n",
       "3                    235                           47         1321   \n",
       "4                    225                           67         1004   \n",
       "\n",
       "   redExperienceDiff  redCSPerMin  redGoldPerMin  \n",
       "0                  8         19.7         1656.7  \n",
       "1               1173         24.0         1762.0  \n",
       "2               1033         20.3         1728.5  \n",
       "3                  7         23.5         1647.8  \n",
       "4               -230         22.5         1740.4  \n",
       "\n",
       "[5 rows x 40 columns]"
      ]
     },
     "execution_count": 2,
     "metadata": {},
     "output_type": "execute_result"
    }
   ],
   "source": [
    "import numpy as np\n",
    "import pandas as pd\n",
    "\n",
    "import matplotlib.pyplot as plt\n",
    "import seaborn as sns\n",
    "from scipy import stats\n",
    "from statsmodels.stats import weightstats as stests\n",
    "\n",
    "from sklearn.preprocessing import LabelEncoder\n",
    "from sklearn.model_selection import train_test_split\n",
    "from sklearn.linear_model import LinearRegression\n",
    "from sklearn.preprocessing import PolynomialFeatures\n",
    "from sklearn.metrics import r2_score, mean_absolute_error, mean_squared_error\n",
    "\n",
    "data = pd.read_csv('../lol/high_diamond_ranked_10min.csv', sep=',', encoding='CP949')\n",
    "data.head()"
   ]
  },
  {
   "cell_type": "code",
   "execution_count": null,
   "metadata": {},
   "outputs": [],
   "source": []
  },
  {
   "cell_type": "code",
   "execution_count": 3,
   "metadata": {},
   "outputs": [],
   "source": [
    "del data['gameId']"
   ]
  },
  {
   "cell_type": "code",
   "execution_count": 4,
   "metadata": {},
   "outputs": [
    {
     "data": {
      "text/plain": [
       "((6915, 39), (2964, 39))"
      ]
     },
     "execution_count": 4,
     "metadata": {},
     "output_type": "execute_result"
    }
   ],
   "source": [
    "from sklearn.model_selection import train_test_split\n",
    "\n",
    "df_train, df_test = train_test_split(data, test_size=0.3, random_state=0)\n",
    "df_train.shape, df_test.shape"
   ]
  },
  {
   "cell_type": "code",
   "execution_count": 5,
   "metadata": {},
   "outputs": [],
   "source": [
    "train_y = df_train['blueWins']\n",
    "del df_train['blueWins']"
   ]
  },
  {
   "cell_type": "code",
   "execution_count": 6,
   "metadata": {},
   "outputs": [],
   "source": [
    "test_y = df_test['blueWins']\n",
    "del df_test['blueWins']"
   ]
  },
  {
   "cell_type": "code",
   "execution_count": 7,
   "metadata": {},
   "outputs": [],
   "source": [
    "from sklearn.preprocessing import MinMaxScaler\n",
    "sc = MinMaxScaler((-1, 1))"
   ]
  },
  {
   "cell_type": "code",
   "execution_count": 8,
   "metadata": {},
   "outputs": [
    {
     "name": "stderr",
     "output_type": "stream",
     "text": [
      "/home/ec2-user/anaconda3/envs/pytorch_p27/lib/python2.7/site-packages/sklearn/preprocessing/data.py:334: DataConversionWarning: Data with input dtype int64, float64 were all converted to float64 by MinMaxScaler.\n",
      "  return self.partial_fit(X, y)\n"
     ]
    }
   ],
   "source": [
    "df_train = sc.fit_transform(df_train)\n",
    "df_test = sc.transform(df_test)"
   ]
  },
  {
   "cell_type": "code",
   "execution_count": 9,
   "metadata": {},
   "outputs": [],
   "source": [
    "import torch\n",
    "from torch import nn, optim\n",
    "from torch.nn import functional as F"
   ]
  },
  {
   "cell_type": "code",
   "execution_count": 10,
   "metadata": {},
   "outputs": [
    {
     "data": {
      "text/plain": [
       "(6915, 38)"
      ]
     },
     "execution_count": 10,
     "metadata": {},
     "output_type": "execute_result"
    }
   ],
   "source": [
    "df_train.shape"
   ]
  },
  {
   "cell_type": "code",
   "execution_count": 11,
   "metadata": {},
   "outputs": [],
   "source": [
    "df_train = torch.tensor(df_train).float()\n",
    "df_test = torch.tensor(df_test).float()\n",
    "train_y = torch.tensor(train_y.values).long()\n",
    "test_y = torch.tensor(test_y.values).long()"
   ]
  },
  {
   "cell_type": "code",
   "execution_count": 12,
   "metadata": {},
   "outputs": [],
   "source": [
    "class LolNN(nn.Module):\n",
    "    def __init__(self):\n",
    "        super(LolNN, self).__init__()\n",
    "        self.fc1 = nn.Linear(38, 100)\n",
    "        self.fc2 = nn.Linear(100, 100)\n",
    "        self.fc3 = nn.Linear(100, 2)\n",
    "    def forward(self, x):\n",
    "        x = F.relu(self.fc1(x))\n",
    "        x = F.relu(self.fc2(x))\n",
    "        return self.fc3(x)\n",
    "    "
   ]
  },
  {
   "cell_type": "code",
   "execution_count": 13,
   "metadata": {},
   "outputs": [],
   "source": [
    "net = LolNN()"
   ]
  },
  {
   "cell_type": "code",
   "execution_count": 14,
   "metadata": {},
   "outputs": [],
   "source": [
    "optimizer = optim.Adam(net.parameters())\n",
    "criterion = nn.CrossEntropyLoss()"
   ]
  },
  {
   "cell_type": "code",
   "execution_count": 15,
   "metadata": {},
   "outputs": [],
   "source": [
    "losses = []"
   ]
  },
  {
   "cell_type": "code",
   "execution_count": 16,
   "metadata": {},
   "outputs": [
    {
     "name": "stdout",
     "output_type": "stream",
     "text": [
      "Epoch 1, Loss: 0.696674764156\n",
      "Epoch 2, Loss: 0.687876999378\n",
      "Epoch 3, Loss: 0.679523527622\n",
      "Epoch 4, Loss: 0.671403169632\n",
      "Epoch 5, Loss: 0.66343742609\n",
      "Epoch 6, Loss: 0.655515909195\n",
      "Epoch 7, Loss: 0.64758336544\n",
      "Epoch 8, Loss: 0.639594614506\n",
      "Epoch 9, Loss: 0.631525218487\n",
      "Epoch 10, Loss: 0.623392879963\n",
      "Epoch 11, Loss: 0.615240097046\n",
      "Epoch 12, Loss: 0.607141137123\n",
      "Epoch 13, Loss: 0.599156141281\n",
      "Epoch 14, Loss: 0.591411888599\n",
      "Epoch 15, Loss: 0.584050297737\n",
      "Epoch 16, Loss: 0.57720798254\n",
      "Epoch 17, Loss: 0.570989251137\n",
      "Epoch 18, Loss: 0.565435945988\n",
      "Epoch 19, Loss: 0.560513198376\n",
      "Epoch 20, Loss: 0.556128263474\n",
      "Epoch 21, Loss: 0.552152335644\n",
      "Epoch 22, Loss: 0.548465967178\n",
      "Epoch 23, Loss: 0.545023262501\n",
      "Epoch 24, Loss: 0.541805267334\n",
      "Epoch 25, Loss: 0.538812696934\n",
      "Epoch 26, Loss: 0.536061227322\n",
      "Epoch 27, Loss: 0.533617913723\n",
      "Epoch 28, Loss: 0.531619787216\n",
      "Epoch 29, Loss: 0.530187964439\n",
      "Epoch 30, Loss: 0.529353201389\n",
      "Epoch 31, Loss: 0.529058516026\n",
      "Epoch 32, Loss: 0.529194176197\n",
      "Epoch 33, Loss: 0.529607713223\n",
      "Epoch 34, Loss: 0.53008544445\n",
      "Epoch 35, Loss: 0.530427217484\n",
      "Epoch 36, Loss: 0.530519545078\n",
      "Epoch 37, Loss: 0.530350148678\n",
      "Epoch 38, Loss: 0.529948651791\n",
      "Epoch 39, Loss: 0.529363930225\n",
      "Epoch 40, Loss: 0.528694152832\n",
      "Epoch 41, Loss: 0.528032422066\n",
      "Epoch 42, Loss: 0.527429938316\n",
      "Epoch 43, Loss: 0.526906430721\n",
      "Epoch 44, Loss: 0.526481807232\n",
      "Epoch 45, Loss: 0.526138067245\n",
      "Epoch 46, Loss: 0.525858402252\n",
      "Epoch 47, Loss: 0.525623559952\n",
      "Epoch 48, Loss: 0.525424361229\n",
      "Epoch 49, Loss: 0.525263309479\n",
      "Epoch 50, Loss: 0.525126755238\n",
      "Epoch 51, Loss: 0.525009274483\n",
      "Epoch 52, Loss: 0.524913489819\n",
      "Epoch 53, Loss: 0.524827063084\n",
      "Epoch 54, Loss: 0.524748146534\n",
      "Epoch 55, Loss: 0.524659335613\n",
      "Epoch 56, Loss: 0.52454996109\n",
      "Epoch 57, Loss: 0.524417757988\n",
      "Epoch 58, Loss: 0.524258852005\n",
      "Epoch 59, Loss: 0.524074733257\n",
      "Epoch 60, Loss: 0.523878216743\n",
      "Epoch 61, Loss: 0.523684561253\n",
      "Epoch 62, Loss: 0.523499310017\n",
      "Epoch 63, Loss: 0.523329257965\n",
      "Epoch 64, Loss: 0.523181021214\n",
      "Epoch 65, Loss: 0.523046851158\n",
      "Epoch 66, Loss: 0.522920131683\n",
      "Epoch 67, Loss: 0.522800862789\n",
      "Epoch 68, Loss: 0.522681057453\n",
      "Epoch 69, Loss: 0.522562682629\n",
      "Epoch 70, Loss: 0.522437870502\n",
      "Epoch 71, Loss: 0.522306680679\n",
      "Epoch 72, Loss: 0.522178292274\n",
      "Epoch 73, Loss: 0.522054135799\n",
      "Epoch 74, Loss: 0.521930098534\n",
      "Epoch 75, Loss: 0.521805465221\n",
      "Epoch 76, Loss: 0.521669507027\n",
      "Epoch 77, Loss: 0.521524786949\n",
      "Epoch 78, Loss: 0.521375775337\n",
      "Epoch 79, Loss: 0.521229624748\n",
      "Epoch 80, Loss: 0.521085441113\n",
      "Epoch 81, Loss: 0.52094578743\n",
      "Epoch 82, Loss: 0.520811736584\n",
      "Epoch 83, Loss: 0.520677447319\n",
      "Epoch 84, Loss: 0.520543992519\n",
      "Epoch 85, Loss: 0.520410835743\n",
      "Epoch 86, Loss: 0.520276367664\n",
      "Epoch 87, Loss: 0.520139336586\n",
      "Epoch 88, Loss: 0.520002126694\n",
      "Epoch 89, Loss: 0.519860386848\n",
      "Epoch 90, Loss: 0.51971668005\n",
      "Epoch 91, Loss: 0.519569218159\n",
      "Epoch 92, Loss: 0.519422471523\n",
      "Epoch 93, Loss: 0.519274055958\n",
      "Epoch 94, Loss: 0.519125819206\n",
      "Epoch 95, Loss: 0.518972456455\n",
      "Epoch 96, Loss: 0.518821418285\n",
      "Epoch 97, Loss: 0.518673658371\n",
      "Epoch 98, Loss: 0.518529295921\n",
      "Epoch 99, Loss: 0.518383741379\n",
      "Epoch 100, Loss: 0.518232882023\n",
      "Epoch 101, Loss: 0.518078386784\n",
      "Epoch 102, Loss: 0.517919838428\n",
      "Epoch 103, Loss: 0.51776009798\n",
      "Epoch 104, Loss: 0.5176025033\n",
      "Epoch 105, Loss: 0.517441689968\n",
      "Epoch 106, Loss: 0.51728451252\n",
      "Epoch 107, Loss: 0.517122387886\n",
      "Epoch 108, Loss: 0.51695817709\n",
      "Epoch 109, Loss: 0.516790866852\n",
      "Epoch 110, Loss: 0.516620457172\n",
      "Epoch 111, Loss: 0.516447782516\n",
      "Epoch 112, Loss: 0.516275167465\n",
      "Epoch 113, Loss: 0.516108036041\n",
      "Epoch 114, Loss: 0.515934348106\n",
      "Epoch 115, Loss: 0.515757501125\n",
      "Epoch 116, Loss: 0.515585958958\n",
      "Epoch 117, Loss: 0.515409469604\n",
      "Epoch 118, Loss: 0.515230596066\n",
      "Epoch 119, Loss: 0.515052199364\n",
      "Epoch 120, Loss: 0.514872908592\n",
      "Epoch 121, Loss: 0.514691412449\n",
      "Epoch 122, Loss: 0.514507710934\n",
      "Epoch 123, Loss: 0.514321446419\n",
      "Epoch 124, Loss: 0.514132559299\n",
      "Epoch 125, Loss: 0.513943850994\n",
      "Epoch 126, Loss: 0.513753354549\n",
      "Epoch 127, Loss: 0.513557970524\n",
      "Epoch 128, Loss: 0.513362824917\n",
      "Epoch 129, Loss: 0.513164997101\n",
      "Epoch 130, Loss: 0.512962698936\n",
      "Epoch 131, Loss: 0.512752354145\n",
      "Epoch 132, Loss: 0.512542665005\n",
      "Epoch 133, Loss: 0.512333869934\n",
      "Epoch 134, Loss: 0.512121081352\n",
      "Epoch 135, Loss: 0.511908710003\n",
      "Epoch 136, Loss: 0.511695325375\n",
      "Epoch 137, Loss: 0.511480510235\n",
      "Epoch 138, Loss: 0.511266648769\n",
      "Epoch 139, Loss: 0.511049091816\n",
      "Epoch 140, Loss: 0.510825634003\n",
      "Epoch 141, Loss: 0.510599136353\n",
      "Epoch 142, Loss: 0.510377764702\n",
      "Epoch 143, Loss: 0.510151743889\n",
      "Epoch 144, Loss: 0.509918153286\n",
      "Epoch 145, Loss: 0.509683728218\n",
      "Epoch 146, Loss: 0.509448468685\n",
      "Epoch 147, Loss: 0.509209156036\n",
      "Epoch 148, Loss: 0.508971571922\n",
      "Epoch 149, Loss: 0.508728682995\n",
      "Epoch 150, Loss: 0.50848287344\n",
      "Epoch 151, Loss: 0.508236050606\n",
      "Epoch 152, Loss: 0.507988452911\n",
      "Epoch 153, Loss: 0.507735311985\n",
      "Epoch 154, Loss: 0.507483363152\n",
      "Epoch 155, Loss: 0.507229804993\n",
      "Epoch 156, Loss: 0.506984055042\n",
      "Epoch 157, Loss: 0.506732404232\n",
      "Epoch 158, Loss: 0.506475508213\n",
      "Epoch 159, Loss: 0.506222128868\n",
      "Epoch 160, Loss: 0.505962669849\n",
      "Epoch 161, Loss: 0.505702674389\n",
      "Epoch 162, Loss: 0.505443632603\n",
      "Epoch 163, Loss: 0.505178511143\n",
      "Epoch 164, Loss: 0.504914045334\n",
      "Epoch 165, Loss: 0.504645109177\n",
      "Epoch 166, Loss: 0.504372060299\n",
      "Epoch 167, Loss: 0.504102826118\n",
      "Epoch 168, Loss: 0.50381809473\n",
      "Epoch 169, Loss: 0.503546476364\n",
      "Epoch 170, Loss: 0.503267049789\n",
      "Epoch 171, Loss: 0.502990067005\n",
      "Epoch 172, Loss: 0.502701342106\n",
      "Epoch 173, Loss: 0.50241202116\n",
      "Epoch 174, Loss: 0.502114355564\n",
      "Epoch 175, Loss: 0.501824736595\n",
      "Epoch 176, Loss: 0.501528739929\n",
      "Epoch 177, Loss: 0.501232028008\n",
      "Epoch 178, Loss: 0.500930964947\n",
      "Epoch 179, Loss: 0.500639140606\n",
      "Epoch 180, Loss: 0.500343084335\n",
      "Epoch 181, Loss: 0.500048220158\n",
      "Epoch 182, Loss: 0.499761134386\n",
      "Epoch 183, Loss: 0.499472588301\n",
      "Epoch 184, Loss: 0.499193012714\n",
      "Epoch 185, Loss: 0.498920798302\n",
      "Epoch 186, Loss: 0.498637318611\n",
      "Epoch 187, Loss: 0.498311907053\n",
      "Epoch 188, Loss: 0.497955054045\n",
      "Epoch 189, Loss: 0.497608691454\n",
      "Epoch 190, Loss: 0.497318446636\n",
      "Epoch 191, Loss: 0.497049838305\n",
      "Epoch 192, Loss: 0.496783703566\n",
      "Epoch 193, Loss: 0.496494829655\n",
      "Epoch 194, Loss: 0.496181637049\n",
      "Epoch 195, Loss: 0.495845764875\n",
      "Epoch 196, Loss: 0.495513647795\n",
      "Epoch 197, Loss: 0.495205551386\n",
      "Epoch 198, Loss: 0.494917720556\n",
      "Epoch 199, Loss: 0.494641333818\n",
      "Epoch 200, Loss: 0.494389861822\n"
     ]
    }
   ],
   "source": [
    "for epoch in range(1, 201):\n",
    "    optimizer.zero_grad()\n",
    "    outputs = net(df_train)\n",
    "    loss = criterion(outputs, train_y)\n",
    "    loss.backward()\n",
    "    optimizer.step()\n",
    "    losses.append(loss.item())\n",
    "    print(\"Epoch {}, Loss: {}\".format(epoch, loss.item()))"
   ]
  },
  {
   "cell_type": "code",
   "execution_count": 17,
   "metadata": {},
   "outputs": [
    {
     "data": {
      "text/plain": [
       "[<matplotlib.lines.Line2D at 0x7fc266c18690>]"
      ]
     },
     "execution_count": 17,
     "metadata": {},
     "output_type": "execute_result"
    },
    {
     "data": {
      "image/png": "[encoded data removed]",
      "text/plain": [
       "<Figure size 432x288 with 1 Axes>"
      ]
     },
     "metadata": {},
     "output_type": "display_data"
    }
   ],
   "source": [
    "plt.plot(losses)"
   ]
  },
  {
   "cell_type": "code",
   "execution_count": 18,
   "metadata": {},
   "outputs": [],
   "source": [
    "pred_test = net(df_test)\n",
    "_, preds_y = torch.max(pred_test, 1)"
   ]
  },
  {
   "cell_type": "code",
   "execution_count": 19,
   "metadata": {},
   "outputs": [],
   "source": [
    "from sklearn.metrics import accuracy_score, confusion_matrix, classification_report"
   ]
  },
  {
   "cell_type": "code",
   "execution_count": 20,
   "metadata": {},
   "outputs": [
    {
     "data": {
      "text/plain": [
       "0.7142375168690959"
      ]
     },
     "execution_count": 20,
     "metadata": {},
     "output_type": "execute_result"
    }
   ],
   "source": [
    "accuracy_score(test_y, preds_y)"
   ]
  },
  {
   "cell_type": "code",
   "execution_count": null,
   "metadata": {},
   "outputs": [],
   "source": []
  },
  {
   "cell_type": "code",
   "execution_count": null,
   "metadata": {},
   "outputs": [],
   "source": []
  },
  {
   "cell_type": "code",
   "execution_count": null,
   "metadata": {},
   "outputs": [],
   "source": []
  },
  {
   "cell_type": "code",
   "execution_count": null,
   "metadata": {},
   "outputs": [],
   "source": []
  }
 ],
 "metadata": {
  "kernelspec": {
   "display_name": "conda_pytorch_p27",
   "language": "python",
   "name": "conda_pytorch_p27"
  },
  "language_info": {
   "codemirror_mode": {
    "name": "ipython",
    "version": 2
   },
   "file_extension": ".py",
   "mimetype": "text/x-python",
   "name": "python",
   "nbconvert_exporter": "python",
   "pygments_lexer": "ipython2",
   "version": "2.7.15"
  }
 },
 "nbformat": 4,
 "nbformat_minor": 4
}
